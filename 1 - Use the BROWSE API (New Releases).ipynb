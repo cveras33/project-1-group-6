{
 "cells": [
  {
   "cell_type": "markdown",
   "metadata": {},
   "source": [
    "# Make sure your Config File is set!!"
   ]
  },
  {
   "cell_type": "code",
   "execution_count": 1,
   "metadata": {},
   "outputs": [
    {
     "name": "stdout",
     "output_type": "stream",
     "text": [
      "Requirement already satisfied: requests in c:\\users\\13479\\anaconda3\\lib\\site-packages (2.24.0)\n",
      "Requirement already satisfied: certifi>=2017.4.17 in c:\\users\\13479\\anaconda3\\lib\\site-packages (from requests) (2020.6.20)\n",
      "Requirement already satisfied: chardet<4,>=3.0.2 in c:\\users\\13479\\anaconda3\\lib\\site-packages (from requests) (3.0.4)\n",
      "Requirement already satisfied: urllib3!=1.25.0,!=1.25.1,<1.26,>=1.21.1 in c:\\users\\13479\\anaconda3\\lib\\site-packages (from requests) (1.25.9)\n",
      "Requirement already satisfied: idna<3,>=2.5 in c:\\users\\13479\\anaconda3\\lib\\site-packages (from requests) (2.10)\n"
     ]
    },
    {
     "name": "stderr",
     "output_type": "stream",
     "text": [
      "WARNING: You are using pip version 20.2.3; however, version 20.2.4 is available.\n",
      "You should consider upgrading via the 'c:\\users\\13479\\anaconda3\\python.exe -m pip install --upgrade pip' command.\n"
     ]
    }
   ],
   "source": [
    "!pip install requests"
   ]
  },
  {
   "cell_type": "code",
   "execution_count": 2,
   "metadata": {},
   "outputs": [],
   "source": [
    "import requests \n",
    "import datetime\n",
    "import base64\n",
    "from urllib.parse import urlencode\n",
    "\n",
    "from config import client_id\n",
    "from config import client_secret\n",
    "\n",
    "client_id = client_id\n",
    "client_secret = client_secret"
   ]
  },
  {
   "cell_type": "code",
   "execution_count": 3,
   "metadata": {},
   "outputs": [],
   "source": [
    "class SpotifyAPI(object):\n",
    "    access_token = None \n",
    "    access_token_expires = datetime.datetime.now()\n",
    "    access_token_did_expire = True\n",
    "    client_id = None \n",
    "    client_secret = None \n",
    "    token_url = \"https://accounts.spotify.com/api/token\"\n",
    "    \n",
    "    def __init__(self, client_id, client_secret, *args, **kwargs):\n",
    "        super().__init__(*args, **kwargs)\n",
    "        self.client_id = client_id\n",
    "        self.client_secret = client_secret\n",
    "    \n",
    "    def get_client_credentials(self):\n",
    "        \"\"\"\n",
    "        Returns a base 64 encoded string\n",
    "        \"\"\"\n",
    "        client_id = self.client_id\n",
    "        client_secret = self.client_secret\n",
    "        \n",
    "        if client_secret == None or client_id == None:\n",
    "            raise Exception(\"You must set client_id and client_secret\")\n",
    "        \n",
    "        client_creds = f\"{client_id}:{client_secret}\"\n",
    "        client_creds_b64 = base64.b64encode(client_creds.encode())\n",
    "        return client_creds_b64.decode()\n",
    "        \n",
    "    def get_token_headers(self):\n",
    "        client_creds_b64 = self.get_client_credentials()\n",
    "        return {\n",
    "            \"Authorization\" : f\"Basic {client_creds_b64}\"\n",
    "        }\n",
    "    \n",
    "    def get_token_data(self):\n",
    "        return {\n",
    "            \"grant_type\" : \"client_credentials\"\n",
    "        }\n",
    "    \n",
    "    def perform_auth(self):\n",
    "        token_url = self.token_url\n",
    "        token_data = self.get_token_data()\n",
    "        token_headers = self.get_token_headers()\n",
    "        r = requests.post(token_url, data = token_data, headers = token_headers)\n",
    "        if r.status_code not in range(200, 299): \n",
    "            return False\n",
    "        data = r.json()\n",
    "        now = datetime.datetime.now()\n",
    "        access_token = data['access_token']\n",
    "        expires_in = data['expires_in'] # seconds \n",
    "        expires = now + datetime.timedelta(seconds = expires_in)\n",
    "        self.access_token = access_token\n",
    "        self.access_token_expires = expires\n",
    "        self.access_token_did_expire = expires < now\n",
    "        return True"
   ]
  },
  {
   "cell_type": "code",
   "execution_count": 4,
   "metadata": {},
   "outputs": [],
   "source": [
    "spotify = SpotifyAPI(client_id, client_secret)"
   ]
  },
  {
   "cell_type": "code",
   "execution_count": 5,
   "metadata": {},
   "outputs": [
    {
     "data": {
      "text/plain": [
       "True"
      ]
     },
     "execution_count": 5,
     "metadata": {},
     "output_type": "execute_result"
    }
   ],
   "source": [
    "spotify.perform_auth()"
   ]
  },
  {
   "cell_type": "code",
   "execution_count": 6,
   "metadata": {},
   "outputs": [],
   "source": [
    "access_token = spotify.access_token"
   ]
  },
  {
   "cell_type": "code",
   "execution_count": 23,
   "metadata": {},
   "outputs": [
    {
     "name": "stdout",
     "output_type": "stream",
     "text": [
      "['3P5WIUJO0Ots1lQx09TOxk', '6pbBHbkfs6i0JzhWjDmvb1', '1CQFYWHVdRypCsU2IU80t1', '3SGFxGF2loXeOFZtKvdmxo', '5vqILcEeCT0N1DeJBsLrGE', '76ME7LgGQq5fuTy9wWBHpq', '1wo8JeDRslm23n6rqpb3jk', '2s7jw1QyMFXe1fsSzla8cv', '7v0KN0VlHJZrhAbSbxEZvZ', '7HlxxaJOHK0ArY4Ae4Qfc7', '6yEZH1HexM9sqOX34qUE4u', '36Lr1Ipl7w3gn0NdZbRcge', '6wxPYC9LuoJCtKtFw4UDgf', '5tF7JnL3vVYaKap77UUz6p', '2TUgzZ8XOE8jm7tDpU4iME', '2LEEg9PQsJqQuhBU0poSrd', '7e9inFYUpFSKmTFbj2xrCS', '7Myw8J0byMIDilWT9vmZj5', '5EqnUTFVewiWTuN11K4G8E', '6xVP3wpk1yUu8X7zN9gzDW', '4ji352J0NHJfD5gHoJa7Oj', '6OxeYR6XlbyBvYMrUzAfe3', '0rWT19dCpPwXJY2zfaSh5t', '1S6sk9yusYQoadSAbx3ZB8', '35dSb2KjI8u7migJ9AbhqQ', '1KrTC1K1M7kMAMDWlH1coX', '7dKKcOsUPcTrzlQYmG2Hq3', '2RhpPh3aaviygDMbFUa3HG', '3MxrCAA1Z5FOaqdqOaiFYz', '4PuFEbaiovUiX7oMCY4znm', '0FIqCHhKHDqHd35AvRm8gp', '3TmAgHb2Er246whOY5Q3Ft', '6fyg81ZmARpHaxNte8X5NE', '4IgfeLqwtEONvhDTV06UPV', '3PqmfbW9QbYXobJ6qUSfFe', '2HDp9JJaUtB2xU02QGlUif', '71wj7iB4JXxUUTPosOpXMM', '4hHHHg7bYSXH803dEsSyl8', '0MmKsaUxCz8XZrwKoLSFDG', '4BAEubwvC2r7bPRKlmRxUO', '2QFXjy3u6Bl6ctdK9FS9eF', '3OR56niCd9ULFGRhBsZBn3', '2wPKxdAGmxRDbgwF8d6YuY', '0laieZ0AIqtsAFTaljjmLc', '58J1HN0dJl1pkTwu1YGJSq', '5aEqPWv21w8UcfqWnuAN7c', '3zHgwCgiBWNcXhOX9UrQME', '4tuKq2JV7r88OLVORQMWKK', '3roOLsfxMpvsd8cEGJPyrc', '1XKhVI0EBWl0xj8liEeB60']\n",
      "['1uNFoZAHBGtllmzznpCI3s', '5CiGnKThu5ctn9pBxv7DGa', '5JZ7CnR6gTvEMKX4g70Amv', '4Uc8Dsxct0oMqx0P6i60ea', '7c0XG5cIJTrrAgEC3ULPiq', '5ZS223C6JyBfXasXxrRqOk', '35l9BRT7MXmM8bv2WDQiyB', '53KwLdlmrlCelAZMaLVZqU', '0eDvMgVFoNV3TpwtrVCoTj', '6fOMl44jA4Sp5b9PpYCkzz', '2UZMlIwnkgAEDBsw1Rejkn', '4xnihxcoXWK3UqryOSnbw5', '5FxD8fkQZ6KcsSYupDVoSO', '00FQb4jTyendYWaN8pK0wa', '3qnGvpP8Yth1AqSBMqON5x', '5Vuvs6Py2JRU7WiFDVsI7J', '5Pwc4xIPtQLFEnJriah9YJ', '3GYvf7puxwkr51EYoD9E7D', '74KM79TiuVKeVCqs8QtB0B', '6S2OmqARrzebs0tKUEyXyp', '4SsVbpTthjScTS7U2hmr1X', '6DJEUXZm0e2rAohdoZ5Voo', '2HPiMwJktBXqakN0hnON2R', '13y7CgLHjMVRMDqxdx0Xdo', '27jRNjIvlUcGN7FBRDnqhp', '2JSwnwAT1BupAQkhqcRCUw', '0hCNtLu0JehylgoiP8L4Gh', '4OBJLual30L7gRl5UkeRcT', '1w5Kfo2jwwIPruYS2UWh56', '738wLrAtLtCtFOLvQBXOXp', '7rOlQwf8OuFLFQp4aydjBt', '3vDpQbGnzRbRVirXlfQagB', '5Matrg5du62bXwer29cU5T', '0vqJkZ0RpLZixt3lTmD8vP', '12trz2INGglrKMzLmg0y2C', '4cUkGQyhLFqKHBtL58HYVp', '3KNIG74xSTc3dj0TRy7pGX', '2hR4h1Cao2ueuI7Cx9c7V8', '1E2AEtxaFaJtH0lO7kgNKw', '4QrBoWLm2WNlPdbFhmlaUZ', '1vyhD5VmyZ7KMfW5gqLgo5', '0XIKGBo9PnK1ApI5tZA60d', '3AuMNF8rQAKOzjYppFNAoB', '5SyGEPymt1G2uto47tVWvZ', '1anyVhU62p31KFi8MEzkbf', '1ybINI1qPiFbwDXamRtwxD', '02kJSzxNuaWGqwubyUba0Z', '2cFrymmkijnjDg9SS92EPM', '5Zq7R5qmi58ByYyBQTlNuk', '5Bcrb5qQMVTEbJ43fdIS4A', '3lDpdwM8KILepMHqBWUhIA', '7MNEVabc4cs19CbzAFZmXz', '7E2ioKxoxI2J94tUkIx6As', '45dkTj5sMRSjrmBSBeiHym', '4rTv3Ejc7hKMtmoBOK1B4T', '202HZzqKvPsMHcbwnDZx7u', '0AepkoQhYvkjEzzwIcGxdV', '1n8hLoV90OhFCYXLtCD659', '6fxk3UXHTFYET8qCT9WlBF', '3qDMrpZHtZEtVl5i1l7hP3', '50hkKRxo0g8Ck4JqlwoJr4', '2vxh38hZKAV0DlSpnv7cqT', '2yJwXpWAQOOl5XFzbCxLs9', '77kULmXAQ6vWer7IIHdGzI', '27CNmUe34ahHuxvayd8Jse']\n"
     ]
    }
   ],
   "source": [
    "### BROWSE API - NEW RELEASES\n",
    "\n",
    "headers = {\n",
    "    \"Authorization\" : f\"Bearer {access_token}\"\n",
    "}\n",
    "\n",
    "endpoint = \"https://api.spotify.com/v1/browse/new-releases?\"\n",
    "\n",
    "data = urlencode({\"limit\":50})\n",
    "\n",
    "lookup_url = f\"{endpoint}{data}\"\n",
    "\n",
    "response = requests.get(lookup_url, headers=headers).json()\n",
    "print(json.dumps(response, indent=4, sort_keys=True))\n",
    "\n"
   ]
  },
  {
   "cell_type": "code",
   "execution_count": 25,
   "metadata": {},
   "outputs": [
    {
     "name": "stdout",
     "output_type": "stream",
     "text": [
      "ALBUM IDs are:  ['3P5WIUJO0Ots1lQx09TOxk', '6pbBHbkfs6i0JzhWjDmvb1', '1CQFYWHVdRypCsU2IU80t1', '3SGFxGF2loXeOFZtKvdmxo', '5vqILcEeCT0N1DeJBsLrGE', '76ME7LgGQq5fuTy9wWBHpq', '1wo8JeDRslm23n6rqpb3jk', '2s7jw1QyMFXe1fsSzla8cv', '7v0KN0VlHJZrhAbSbxEZvZ', '7HlxxaJOHK0ArY4Ae4Qfc7', '6yEZH1HexM9sqOX34qUE4u', '36Lr1Ipl7w3gn0NdZbRcge', '6wxPYC9LuoJCtKtFw4UDgf', '5tF7JnL3vVYaKap77UUz6p', '2TUgzZ8XOE8jm7tDpU4iME', '2LEEg9PQsJqQuhBU0poSrd', '7e9inFYUpFSKmTFbj2xrCS', '7Myw8J0byMIDilWT9vmZj5', '5EqnUTFVewiWTuN11K4G8E', '6xVP3wpk1yUu8X7zN9gzDW', '4ji352J0NHJfD5gHoJa7Oj', '6OxeYR6XlbyBvYMrUzAfe3', '0rWT19dCpPwXJY2zfaSh5t', '1S6sk9yusYQoadSAbx3ZB8', '35dSb2KjI8u7migJ9AbhqQ', '1KrTC1K1M7kMAMDWlH1coX', '7dKKcOsUPcTrzlQYmG2Hq3', '2RhpPh3aaviygDMbFUa3HG', '3MxrCAA1Z5FOaqdqOaiFYz', '4PuFEbaiovUiX7oMCY4znm', '0FIqCHhKHDqHd35AvRm8gp', '3TmAgHb2Er246whOY5Q3Ft', '6fyg81ZmARpHaxNte8X5NE', '4IgfeLqwtEONvhDTV06UPV', '3PqmfbW9QbYXobJ6qUSfFe', '2HDp9JJaUtB2xU02QGlUif', '71wj7iB4JXxUUTPosOpXMM', '4hHHHg7bYSXH803dEsSyl8', '0MmKsaUxCz8XZrwKoLSFDG', '4BAEubwvC2r7bPRKlmRxUO', '2QFXjy3u6Bl6ctdK9FS9eF', '3OR56niCd9ULFGRhBsZBn3', '2wPKxdAGmxRDbgwF8d6YuY', '0laieZ0AIqtsAFTaljjmLc', '58J1HN0dJl1pkTwu1YGJSq', '5aEqPWv21w8UcfqWnuAN7c', '3zHgwCgiBWNcXhOX9UrQME', '4tuKq2JV7r88OLVORQMWKK', '3roOLsfxMpvsd8cEGJPyrc', '1XKhVI0EBWl0xj8liEeB60']\n",
      "ARTIST IDs are:  ['1uNFoZAHBGtllmzznpCI3s', '5CiGnKThu5ctn9pBxv7DGa', '5JZ7CnR6gTvEMKX4g70Amv', '4Uc8Dsxct0oMqx0P6i60ea', '7c0XG5cIJTrrAgEC3ULPiq', '5ZS223C6JyBfXasXxrRqOk', '35l9BRT7MXmM8bv2WDQiyB', '53KwLdlmrlCelAZMaLVZqU', '0eDvMgVFoNV3TpwtrVCoTj', '6fOMl44jA4Sp5b9PpYCkzz', '2UZMlIwnkgAEDBsw1Rejkn', '4xnihxcoXWK3UqryOSnbw5', '5FxD8fkQZ6KcsSYupDVoSO', '00FQb4jTyendYWaN8pK0wa', '3qnGvpP8Yth1AqSBMqON5x', '5Vuvs6Py2JRU7WiFDVsI7J', '5Pwc4xIPtQLFEnJriah9YJ', '3GYvf7puxwkr51EYoD9E7D', '74KM79TiuVKeVCqs8QtB0B', '6S2OmqARrzebs0tKUEyXyp', '4SsVbpTthjScTS7U2hmr1X', '6DJEUXZm0e2rAohdoZ5Voo', '2HPiMwJktBXqakN0hnON2R', '13y7CgLHjMVRMDqxdx0Xdo', '27jRNjIvlUcGN7FBRDnqhp', '2JSwnwAT1BupAQkhqcRCUw', '0hCNtLu0JehylgoiP8L4Gh', '4OBJLual30L7gRl5UkeRcT', '1w5Kfo2jwwIPruYS2UWh56', '738wLrAtLtCtFOLvQBXOXp', '7rOlQwf8OuFLFQp4aydjBt', '3vDpQbGnzRbRVirXlfQagB', '5Matrg5du62bXwer29cU5T', '0vqJkZ0RpLZixt3lTmD8vP', '12trz2INGglrKMzLmg0y2C', '4cUkGQyhLFqKHBtL58HYVp', '3KNIG74xSTc3dj0TRy7pGX', '2hR4h1Cao2ueuI7Cx9c7V8', '1E2AEtxaFaJtH0lO7kgNKw', '4QrBoWLm2WNlPdbFhmlaUZ', '1vyhD5VmyZ7KMfW5gqLgo5', '0XIKGBo9PnK1ApI5tZA60d', '3AuMNF8rQAKOzjYppFNAoB', '5SyGEPymt1G2uto47tVWvZ', '1anyVhU62p31KFi8MEzkbf', '1ybINI1qPiFbwDXamRtwxD', '02kJSzxNuaWGqwubyUba0Z', '2cFrymmkijnjDg9SS92EPM', '5Zq7R5qmi58ByYyBQTlNuk', '5Bcrb5qQMVTEbJ43fdIS4A', '3lDpdwM8KILepMHqBWUhIA', '7MNEVabc4cs19CbzAFZmXz', '7E2ioKxoxI2J94tUkIx6As', '45dkTj5sMRSjrmBSBeiHym', '4rTv3Ejc7hKMtmoBOK1B4T', '202HZzqKvPsMHcbwnDZx7u', '0AepkoQhYvkjEzzwIcGxdV', '1n8hLoV90OhFCYXLtCD659', '6fxk3UXHTFYET8qCT9WlBF', '3qDMrpZHtZEtVl5i1l7hP3', '50hkKRxo0g8Ck4JqlwoJr4', '2vxh38hZKAV0DlSpnv7cqT', '2yJwXpWAQOOl5XFzbCxLs9', '77kULmXAQ6vWer7IIHdGzI', '27CNmUe34ahHuxvayd8Jse']\n"
     ]
    }
   ],
   "source": [
    "albums = response['albums']['items']\n",
    "\n",
    "# album_ids = [album['id'] for album in albums]\n",
    "\n",
    "album_ids = []\n",
    "artist_ids = []\n",
    "\n",
    "for album in albums:\n",
    "    album_ids.append(album['id'])\n",
    "    \n",
    "    artists = album['artists']\n",
    "    \n",
    "    for artist in artists:\n",
    "        artist_ids.append(artist['id'])\n",
    "    \n",
    "print('*' *50, 'ALBUM IDs are: ', album_ids)\n",
    "print('ARTIST IDs are: ', artist_ids)\n",
    "\n"
   ]
  },
  {
   "cell_type": "code",
   "execution_count": null,
   "metadata": {},
   "outputs": [],
   "source": []
  }
 ],
 "metadata": {
  "kernelspec": {
   "display_name": "Python 3",
   "language": "python",
   "name": "python3"
  },
  "language_info": {
   "codemirror_mode": {
    "name": "ipython",
    "version": 3
   },
   "file_extension": ".py",
   "mimetype": "text/x-python",
   "name": "python",
   "nbconvert_exporter": "python",
   "pygments_lexer": "ipython3",
   "version": "3.8.3"
  },
  "toc": {
   "base_numbering": 1,
   "nav_menu": {},
   "number_sections": true,
   "sideBar": true,
   "skip_h1_title": false,
   "title_cell": "Table of Contents",
   "title_sidebar": "Contents",
   "toc_cell": false,
   "toc_position": {},
   "toc_section_display": true,
   "toc_window_display": false
  },
  "varInspector": {
   "cols": {
    "lenName": 16,
    "lenType": 16,
    "lenVar": 40
   },
   "kernels_config": {
    "python": {
     "delete_cmd_postfix": "",
     "delete_cmd_prefix": "del ",
     "library": "var_list.py",
     "varRefreshCmd": "print(var_dic_list())"
    },
    "r": {
     "delete_cmd_postfix": ") ",
     "delete_cmd_prefix": "rm(",
     "library": "var_list.r",
     "varRefreshCmd": "cat(var_dic_list()) "
    }
   },
   "types_to_exclude": [
    "module",
    "function",
    "builtin_function_or_method",
    "instance",
    "_Feature"
   ],
   "window_display": false
  }
 },
 "nbformat": 4,
 "nbformat_minor": 4
}
