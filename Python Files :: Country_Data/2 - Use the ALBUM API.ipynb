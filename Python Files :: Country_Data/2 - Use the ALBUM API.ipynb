{
 "cells": [
  {
   "cell_type": "markdown",
   "metadata": {},
   "source": [
    "# Make sure your Config File is set!!"
   ]
  },
  {
   "cell_type": "code",
   "execution_count": 1,
   "metadata": {},
   "outputs": [
    {
     "name": "stdout",
     "output_type": "stream",
     "text": [
      "Requirement already satisfied: requests in /Users/jenniferdean/opt/anaconda3/envs/PythonData/lib/python3.8/site-packages (2.24.0)\n",
      "Requirement already satisfied: certifi>=2017.4.17 in /Users/jenniferdean/opt/anaconda3/envs/PythonData/lib/python3.8/site-packages (from requests) (2020.6.20)\n",
      "Requirement already satisfied: urllib3!=1.25.0,!=1.25.1,<1.26,>=1.21.1 in /Users/jenniferdean/opt/anaconda3/envs/PythonData/lib/python3.8/site-packages (from requests) (1.25.10)\n",
      "Requirement already satisfied: idna<3,>=2.5 in /Users/jenniferdean/opt/anaconda3/envs/PythonData/lib/python3.8/site-packages (from requests) (2.10)\n",
      "Requirement already satisfied: chardet<4,>=3.0.2 in /Users/jenniferdean/opt/anaconda3/envs/PythonData/lib/python3.8/site-packages (from requests) (3.0.4)\n"
     ]
    }
   ],
   "source": [
    "!pip install requests"
   ]
  },
  {
   "cell_type": "code",
   "execution_count": 21,
   "metadata": {},
   "outputs": [],
   "source": [
    "import requests \n",
    "import datetime\n",
    "import base64\n",
    "from urllib.parse import urlencode\n",
    "from config import client_id\n",
    "from config import client_secret\n",
    "\n",
    "client_id = client_id\n",
    "client_secret = client_secret"
   ]
  },
  {
   "cell_type": "code",
   "execution_count": 8,
   "metadata": {},
   "outputs": [],
   "source": [
    "class SpotifyAPI(object):\n",
    "    access_token = None \n",
    "    access_token_expires = datetime.datetime.now()\n",
    "    access_token_did_expire = True\n",
    "    client_id = None \n",
    "    client_secret = None \n",
    "    token_url = \"https://accounts.spotify.com/api/token\"\n",
    "    \n",
    "    def __init__(self, client_id, client_secret, *args, **kwargs):\n",
    "        super().__init__(*args, **kwargs)\n",
    "        self.client_id = client_id\n",
    "        self.client_secret = client_secret\n",
    "    \n",
    "    def get_client_credentials(self):\n",
    "        \"\"\"\n",
    "        Returns a base 64 encoded string\n",
    "        \"\"\"\n",
    "        client_id = self.client_id\n",
    "        client_secret = self.client_secret\n",
    "        \n",
    "        if client_secret == None or client_id == None:\n",
    "            raise Exception(\"You must set client_id and client_secret\")\n",
    "        \n",
    "        client_creds = f\"{client_id}:{client_secret}\"\n",
    "        client_creds_b64 = base64.b64encode(client_creds.encode())\n",
    "        return client_creds_b64.decode()\n",
    "        \n",
    "    def get_token_headers(self):\n",
    "        client_creds_b64 = self.get_client_credentials()\n",
    "        return {\n",
    "            \"Authorization\" : f\"Basic {client_creds_b64}\"\n",
    "        }\n",
    "    \n",
    "    def get_token_data(self):\n",
    "        return {\n",
    "            \"grant_type\" : \"client_credentials\"\n",
    "        }\n",
    "    \n",
    "    def perform_auth(self):\n",
    "        token_url = self.token_url\n",
    "        token_data = self.get_token_data()\n",
    "        token_headers = self.get_token_headers()\n",
    "        r = requests.post(token_url, data = token_data, headers = token_headers)\n",
    "        if r.status_code not in range(200, 299): \n",
    "            return False\n",
    "        data = r.json()\n",
    "        now = datetime.datetime.now()\n",
    "        access_token = data['access_token']\n",
    "        expires_in = data['expires_in'] # seconds \n",
    "        expires = now + datetime.timedelta(seconds = expires_in)\n",
    "        self.access_token = access_token\n",
    "        self.access_token_expires = expires\n",
    "        self.access_token_did_expire = expires < now\n",
    "        return True"
   ]
  },
  {
   "cell_type": "code",
   "execution_count": 9,
   "metadata": {},
   "outputs": [],
   "source": [
    "spotify = SpotifyAPI(client_id, client_secret)"
   ]
  },
  {
   "cell_type": "code",
   "execution_count": 10,
   "metadata": {},
   "outputs": [
    {
     "data": {
      "text/plain": [
       "True"
      ]
     },
     "execution_count": 10,
     "metadata": {},
     "output_type": "execute_result"
    }
   ],
   "source": [
    "spotify.perform_auth()"
   ]
  },
  {
   "cell_type": "code",
   "execution_count": 11,
   "metadata": {},
   "outputs": [],
   "source": [
    "access_token = spotify.access_token"
   ]
  },
  {
   "cell_type": "code",
   "execution_count": 49,
   "metadata": {
    "scrolled": false
   },
   "outputs": [
    {
     "name": "stdout",
     "output_type": "stream",
     "text": [
      "[\n",
      "    \"acoustic\",\n",
      "    \"afrobeat\",\n",
      "    \"alt-rock\",\n",
      "    \"alternative\",\n",
      "    \"ambient\",\n",
      "    \"anime\",\n",
      "    \"black-metal\",\n",
      "    \"bluegrass\",\n",
      "    \"blues\",\n",
      "    \"bossanova\",\n",
      "    \"brazil\",\n",
      "    \"breakbeat\",\n",
      "    \"british\",\n",
      "    \"cantopop\",\n",
      "    \"chicago-house\",\n",
      "    \"children\",\n",
      "    \"chill\",\n",
      "    \"classical\",\n",
      "    \"club\",\n",
      "    \"comedy\",\n",
      "    \"country\",\n",
      "    \"dance\",\n",
      "    \"dancehall\",\n",
      "    \"death-metal\",\n",
      "    \"deep-house\",\n",
      "    \"detroit-techno\",\n",
      "    \"disco\",\n",
      "    \"disney\",\n",
      "    \"drum-and-bass\",\n",
      "    \"dub\",\n",
      "    \"dubstep\",\n",
      "    \"edm\",\n",
      "    \"electro\",\n",
      "    \"electronic\",\n",
      "    \"emo\",\n",
      "    \"folk\",\n",
      "    \"forro\",\n",
      "    \"french\",\n",
      "    \"funk\",\n",
      "    \"garage\",\n",
      "    \"german\",\n",
      "    \"gospel\",\n",
      "    \"goth\",\n",
      "    \"grindcore\",\n",
      "    \"groove\",\n",
      "    \"grunge\",\n",
      "    \"guitar\",\n",
      "    \"happy\",\n",
      "    \"hard-rock\",\n",
      "    \"hardcore\",\n",
      "    \"hardstyle\",\n",
      "    \"heavy-metal\",\n",
      "    \"hip-hop\",\n",
      "    \"holidays\",\n",
      "    \"honky-tonk\",\n",
      "    \"house\",\n",
      "    \"idm\",\n",
      "    \"indian\",\n",
      "    \"indie\",\n",
      "    \"indie-pop\",\n",
      "    \"industrial\",\n",
      "    \"iranian\",\n",
      "    \"j-dance\",\n",
      "    \"j-idol\",\n",
      "    \"j-pop\",\n",
      "    \"j-rock\",\n",
      "    \"jazz\",\n",
      "    \"k-pop\",\n",
      "    \"kids\",\n",
      "    \"latin\",\n",
      "    \"latino\",\n",
      "    \"malay\",\n",
      "    \"mandopop\",\n",
      "    \"metal\",\n",
      "    \"metal-misc\",\n",
      "    \"metalcore\",\n",
      "    \"minimal-techno\",\n",
      "    \"movies\",\n",
      "    \"mpb\",\n",
      "    \"new-age\",\n",
      "    \"new-release\",\n",
      "    \"opera\",\n",
      "    \"pagode\",\n",
      "    \"party\",\n",
      "    \"philippines-opm\",\n",
      "    \"piano\",\n",
      "    \"pop\",\n",
      "    \"pop-film\",\n",
      "    \"post-dubstep\",\n",
      "    \"power-pop\",\n",
      "    \"progressive-house\",\n",
      "    \"psych-rock\",\n",
      "    \"punk\",\n",
      "    \"punk-rock\",\n",
      "    \"r-n-b\",\n",
      "    \"rainy-day\",\n",
      "    \"reggae\",\n",
      "    \"reggaeton\",\n",
      "    \"road-trip\",\n",
      "    \"rock\",\n",
      "    \"rock-n-roll\",\n",
      "    \"rockabilly\",\n",
      "    \"romance\",\n",
      "    \"sad\",\n",
      "    \"salsa\",\n",
      "    \"samba\",\n",
      "    \"sertanejo\",\n",
      "    \"show-tunes\",\n",
      "    \"singer-songwriter\",\n",
      "    \"ska\",\n",
      "    \"sleep\",\n",
      "    \"songwriter\",\n",
      "    \"soul\",\n",
      "    \"soundtracks\",\n",
      "    \"spanish\",\n",
      "    \"study\",\n",
      "    \"summer\",\n",
      "    \"swedish\",\n",
      "    \"synth-pop\",\n",
      "    \"tango\",\n",
      "    \"techno\",\n",
      "    \"trance\",\n",
      "    \"trip-hop\",\n",
      "    \"turkish\",\n",
      "    \"work-out\",\n",
      "    \"world-music\"\n",
      "]\n"
     ]
    }
   ],
   "source": [
    "### ALBUM API\n",
    "\n",
    "headers = {\n",
    "    \"Authorization\" : f\"Bearer {access_token}\"\n",
    "}\n",
    "\n",
    "endpoint = \"https://api.spotify.com/v1/albums\"\n",
    "data = urlencode({\"ids\": #album ids, separated by commas (Max 20),\n",
    "                  \"market\": #ISO 3166-1 alpha-2 country code,\n",
    "                 })\n",
    "\n",
    "lookup_url = f\"{endpoint}{data}\"\n",
    "\n",
    "response = requests.get(lookup_url, headers=headers).json()\n",
    "\n",
    "print(json.dumps(response[\"genres\"], indent=4, sort_keys=True))"
   ]
  },
  {
   "cell_type": "code",
   "execution_count": null,
   "metadata": {},
   "outputs": [],
   "source": []
  }
 ],
 "metadata": {
  "kernelspec": {
   "display_name": "Python 3",
   "language": "python",
   "name": "python3"
  },
  "language_info": {
   "codemirror_mode": {
    "name": "ipython",
    "version": 3
   },
   "file_extension": ".py",
   "mimetype": "text/x-python",
   "name": "python",
   "nbconvert_exporter": "python",
   "pygments_lexer": "ipython3",
   "version": "3.8.5"
  },
  "toc": {
   "base_numbering": 1,
   "nav_menu": {},
   "number_sections": true,
   "sideBar": true,
   "skip_h1_title": false,
   "title_cell": "Table of Contents",
   "title_sidebar": "Contents",
   "toc_cell": false,
   "toc_position": {},
   "toc_section_display": true,
   "toc_window_display": false
  },
  "varInspector": {
   "cols": {
    "lenName": 16,
    "lenType": 16,
    "lenVar": 40
   },
   "kernels_config": {
    "python": {
     "delete_cmd_postfix": "",
     "delete_cmd_prefix": "del ",
     "library": "var_list.py",
     "varRefreshCmd": "print(var_dic_list())"
    },
    "r": {
     "delete_cmd_postfix": ") ",
     "delete_cmd_prefix": "rm(",
     "library": "var_list.r",
     "varRefreshCmd": "cat(var_dic_list()) "
    }
   },
   "types_to_exclude": [
    "module",
    "function",
    "builtin_function_or_method",
    "instance",
    "_Feature"
   ],
   "window_display": false
  }
 },
 "nbformat": 4,
 "nbformat_minor": 4
}
