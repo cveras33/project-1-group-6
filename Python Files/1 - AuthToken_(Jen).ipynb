{
 "cells": [
  {
   "cell_type": "markdown",
   "metadata": {},
   "source": [
    "# COPY AND PASTE THIS CODE WITH YOUR OWN CLIENT ID & SECRET "
   ]
  },
  {
   "cell_type": "markdown",
   "metadata": {},
   "source": [
    "#### Head here to get your custom client id and client secret: https://developer.spotify.com/dashboard/applications/61571ab2d97c41c79ef2c934842244f6"
   ]
  },
  {
   "cell_type": "markdown",
   "metadata": {},
   "source": [
    "#### DO NOT USE MINE"
   ]
  },
  {
   "cell_type": "code",
   "execution_count": 2,
   "metadata": {},
   "outputs": [
    {
     "name": "stdout",
     "output_type": "stream",
     "text": [
      "Requirement already satisfied: requests in /Users/jenniferdean/opt/anaconda3/envs/PythonData/lib/python3.8/site-packages (2.24.0)\r\n",
      "Requirement already satisfied: urllib3!=1.25.0,!=1.25.1,<1.26,>=1.21.1 in /Users/jenniferdean/opt/anaconda3/envs/PythonData/lib/python3.8/site-packages (from requests) (1.25.10)\r\n",
      "Requirement already satisfied: idna<3,>=2.5 in /Users/jenniferdean/opt/anaconda3/envs/PythonData/lib/python3.8/site-packages (from requests) (2.10)\r\n",
      "Requirement already satisfied: certifi>=2017.4.17 in /Users/jenniferdean/opt/anaconda3/envs/PythonData/lib/python3.8/site-packages (from requests) (2020.6.20)\r\n",
      "Requirement already satisfied: chardet<4,>=3.0.2 in /Users/jenniferdean/opt/anaconda3/envs/PythonData/lib/python3.8/site-packages (from requests) (3.0.4)\r\n"
     ]
    }
   ],
   "source": [
    "!pip install requests"
   ]
  },
  {
   "cell_type": "code",
   "execution_count": 3,
   "metadata": {},
   "outputs": [],
   "source": [
    "import base64\n",
    "import requests\n",
    "import datetime"
   ]
  },
  {
   "cell_type": "code",
   "execution_count": 4,
   "metadata": {},
   "outputs": [],
   "source": [
    "client_id = '61571ab2d97c41c79ef2c934842244f6'\n",
    "client_secret = 'fe92242f30874f5c941b9901643517e3'"
   ]
  },
  {
   "cell_type": "code",
   "execution_count": 5,
   "metadata": {},
   "outputs": [],
   "source": [
    "# do a lookup for a token\n",
    "# this token is for a future requests"
   ]
  },
  {
   "cell_type": "code",
   "execution_count": 6,
   "metadata": {},
   "outputs": [],
   "source": [
    "client_creds = f\"{client_id}:{client_secret}\""
   ]
  },
  {
   "cell_type": "code",
   "execution_count": 7,
   "metadata": {},
   "outputs": [],
   "source": [
    "client_creds_b64 = base64.b64encode(client_creds.encode())"
   ]
  },
  {
   "cell_type": "code",
   "execution_count": 8,
   "metadata": {},
   "outputs": [],
   "source": [
    "token_url = 'https://accounts.spotify.com/api/token'\n",
    "method = \"POST\"\n",
    "\n",
    "token_data = {\n",
    "    \"grant_type\" : \"client_credentials\"\n",
    "}\n",
    "\n",
    "token_headers = {\n",
    "    \"Authorization\" : f\"Basic {client_creds_b64.decode()}\" #<base64 encoded client_id:client_secret>\"\n",
    "}"
   ]
  },
  {
   "cell_type": "code",
   "execution_count": 11,
   "metadata": {},
   "outputs": [
    {
     "name": "stdout",
     "output_type": "stream",
     "text": [
      "{'access_token': 'BQDofxLsE6OTt8sDLXKyjtEdiMglSNTiOWkVgLpiK9kUK82QWmxR-I4QzjhFkMozHgXa1hr1N8MBSvfM4O0', 'token_type': 'Bearer', 'expires_in': 3600, 'scope': ''}\n"
     ]
    }
   ],
   "source": [
    "r = requests.post(token_url, data=token_data, headers=token_headers)\n",
    "\n",
    "print(r.json()) #This is your Access Token.\n",
    "\n",
    "vaild_request = r.status_code in range(200,299)\n"
   ]
  },
  {
   "cell_type": "code",
   "execution_count": 17,
   "metadata": {},
   "outputs": [
    {
     "name": "stdout",
     "output_type": "stream",
     "text": [
      "BQDofxLsE6OTt8sDLXKyjtEdiMglSNTiOWkVgLpiK9kUK82QWmxR-I4QzjhFkMozHgXa1hr1N8MBSvfM4O0\n"
     ]
    }
   ],
   "source": [
    "if vaild_request:\n",
    "\n",
    "    token_response_data = r.json()\n",
    "\n",
    "    now = datetime.datetime.now()\n",
    "\n",
    "    access_token = token_response_data['access_token']\n",
    "\n",
    "    expires_in = token_response_data['expires_in'] #seconds\n",
    "\n",
    "    expires = now + datetime.timedelta(seconds=expires_in)\n",
    "\n",
    "    did_expire = expires < now\n",
    "    \n",
    "    print(token_response_data['access_token'])"
   ]
  }
 ],
 "metadata": {
  "kernelspec": {
   "display_name": "Python 3",
   "language": "python",
   "name": "python3"
  },
  "language_info": {
   "codemirror_mode": {
    "name": "ipython",
    "version": 3
   },
   "file_extension": ".py",
   "mimetype": "text/x-python",
   "name": "python",
   "nbconvert_exporter": "python",
   "pygments_lexer": "ipython3",
   "version": "3.8.5"
  },
  "toc": {
   "base_numbering": 1,
   "nav_menu": {},
   "number_sections": true,
   "sideBar": true,
   "skip_h1_title": false,
   "title_cell": "Table of Contents",
   "title_sidebar": "Contents",
   "toc_cell": false,
   "toc_position": {},
   "toc_section_display": true,
   "toc_window_display": false
  },
  "varInspector": {
   "cols": {
    "lenName": 16,
    "lenType": 16,
    "lenVar": 40
   },
   "kernels_config": {
    "python": {
     "delete_cmd_postfix": "",
     "delete_cmd_prefix": "del ",
     "library": "var_list.py",
     "varRefreshCmd": "print(var_dic_list())"
    },
    "r": {
     "delete_cmd_postfix": ") ",
     "delete_cmd_prefix": "rm(",
     "library": "var_list.r",
     "varRefreshCmd": "cat(var_dic_list()) "
    }
   },
   "types_to_exclude": [
    "module",
    "function",
    "builtin_function_or_method",
    "instance",
    "_Feature"
   ],
   "window_display": false
  }
 },
 "nbformat": 4,
 "nbformat_minor": 4
}
