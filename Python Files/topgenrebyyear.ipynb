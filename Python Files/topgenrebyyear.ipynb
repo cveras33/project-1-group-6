{
 "cells": [
  {
   "cell_type": "code",
   "execution_count": 42,
   "metadata": {
    "ExecuteTime": {
     "end_time": "2020-10-22T18:44:38.045774Z",
     "start_time": "2020-10-22T18:44:37.753657Z"
    }
   },
   "outputs": [],
   "source": [
    "import os\n",
    "import csv\n",
    "import matplotlib.pyplot as plt\n",
    "import pandas as pd\n",
    "import numpy as np\n",
    "import seaborn as sns\n",
    "import requests\n",
    "import urllib\n",
    "import time\n",
    "import json\n",
    "from pprint import pprint\n",
    "import datetime\n",
    "import scipy.stats as st\n",
    "from scipy.stats import linregress\n",
    "import base64\n",
    "import spotipy\n",
    "import spotipy.util as util\n",
    "from spotipy.oauth2 import SpotifyClientCredentials\n",
    "import spotipy.oauth2 as oauth2\n",
    "\n",
    "from api_keys import Client_ID_key\n",
    "from api_keys import Client_Secret_key\n",
    "\n"
   ]
  },
  {
   "cell_type": "code",
   "execution_count": 43,
   "metadata": {
    "ExecuteTime": {
     "end_time": "2020-10-22T18:44:49.947425Z",
     "start_time": "2020-10-22T18:44:49.942438Z"
    }
   },
   "outputs": [],
   "source": [
    "Client_ID_key = Client_ID_key\n",
    "Client_Secret_key = Client_Secret_key"
   ]
  },
  {
   "cell_type": "code",
   "execution_count": 45,
   "metadata": {
    "ExecuteTime": {
     "end_time": "2020-10-22T18:47:18.093530Z",
     "start_time": "2020-10-22T18:47:18.076549Z"
    }
   },
   "outputs": [
    {
     "ename": "TypeError",
     "evalue": "SpotifyAPI() takes no arguments",
     "output_type": "error",
     "traceback": [
      "\u001b[1;31m---------------------------------------------------------------------------\u001b[0m",
      "\u001b[1;31mTypeError\u001b[0m                                 Traceback (most recent call last)",
      "\u001b[1;32m<ipython-input-45-2d2943a10872>\u001b[0m in \u001b[0;36m<module>\u001b[1;34m\u001b[0m\n\u001b[0;32m      5\u001b[0m     \u001b[0mClient_ID_key\u001b[0m \u001b[1;33m=\u001b[0m \u001b[1;32mNone\u001b[0m\u001b[1;33m\u001b[0m\u001b[1;33m\u001b[0m\u001b[0m\n\u001b[0;32m      6\u001b[0m     \u001b[0mClient_Secret_key\u001b[0m \u001b[1;33m=\u001b[0m \u001b[1;32mNone\u001b[0m\u001b[1;33m\u001b[0m\u001b[1;33m\u001b[0m\u001b[0m\n\u001b[1;32m----> 7\u001b[1;33m \u001b[0mspotify\u001b[0m \u001b[1;33m=\u001b[0m \u001b[0mSpotifyAPI\u001b[0m \u001b[1;33m(\u001b[0m\u001b[0mClient_ID_key\u001b[0m\u001b[1;33m,\u001b[0m \u001b[0mClient_Secret_key\u001b[0m\u001b[1;33m)\u001b[0m\u001b[1;33m\u001b[0m\u001b[1;33m\u001b[0m\u001b[0m\n\u001b[0m",
      "\u001b[1;31mTypeError\u001b[0m: SpotifyAPI() takes no arguments"
     ]
    }
   ],
   "source": [
    "class SpotifyAPI (object):\n",
    "    access_token = None\n",
    "    access_token_expires = datetime.datetime.now()\n",
    "    access_token_did_expire = True\n",
    "    Client_ID_key = None\n",
    "    Client_Secret_key = None \n",
    "\n"
   ]
  },
  {
   "cell_type": "code",
   "execution_count": 51,
   "metadata": {
    "ExecuteTime": {
     "end_time": "2020-10-22T21:22:44.740048Z",
     "start_time": "2020-10-22T21:22:44.727083Z"
    }
   },
   "outputs": [
    {
     "ename": "SyntaxError",
     "evalue": "invalid syntax (<ipython-input-51-1d359befdb56>, line 18)",
     "output_type": "error",
     "traceback": [
      "\u001b[1;36m  File \u001b[1;32m\"<ipython-input-51-1d359befdb56>\"\u001b[1;36m, line \u001b[1;32m18\u001b[0m\n\u001b[1;33m    print\"Total number of songs: {}\".format(count_songs)\u001b[0m\n\u001b[1;37m         ^\u001b[0m\n\u001b[1;31mSyntaxError\u001b[0m\u001b[1;31m:\u001b[0m invalid syntax\n"
     ]
    }
   ],
   "source": [
    "class SpotifyAPI (object):\n",
    "    access_token = None\n",
    "    access_token_expires = datetime.datetime.now()\n",
    "    access_token_did_expire = True\n",
    "    Client_ID_key = None\n",
    "    Client_Secret_key = None \n",
    "urn = 'spotipy:category'\n",
    "sp = spotipy.Spotify()\n",
    "category = sp.category(urn)\n",
    "print(category)\n",
    "client_credentials_manager = SpotifyClientCredentials(Client_ID_key=Client_ID_key, Client_Secret_key=Client_Secret_key)\n",
    "spotipy.Spotify(client_credentials_manager=client_credentials_manager)\n",
    "url=\"https://api.spotify.com/v1/me/tracks\"\n",
    "headers= {'Authorization': \"Bearer{}\".format(TOKEN)}\n",
    "r = requests.get(url, headers=headers)\n",
    "parsed = json.loads(r.text)\n",
    "count_songs = parsed[\"total\"]\n",
    "print \"Total number of songs: {}\".format(count_songs)\n",
    "print(df.dtypes)\n",
    "print(type(df['Genre']))\n",
    "popular_genre=df.groupby('Genre').size().unique()\n",
    "print(popular_genre)\n",
    "genre_list=df['Genre'].values.tolist()"
   ]
  }
 ],
 "metadata": {
  "kernelspec": {
   "display_name": "Python 3",
   "language": "python",
   "name": "python3"
  },
  "language_info": {
   "codemirror_mode": {
    "name": "ipython",
    "version": 3
   },
   "file_extension": ".py",
   "mimetype": "text/x-python",
   "name": "python",
   "nbconvert_exporter": "python",
   "pygments_lexer": "ipython3",
   "version": "3.8.3"
  },
  "toc": {
   "base_numbering": 1,
   "nav_menu": {},
   "number_sections": true,
   "sideBar": true,
   "skip_h1_title": false,
   "title_cell": "Table of Contents",
   "title_sidebar": "Contents",
   "toc_cell": false,
   "toc_position": {},
   "toc_section_display": true,
   "toc_window_display": false
  },
  "varInspector": {
   "cols": {
    "lenName": 16,
    "lenType": 16,
    "lenVar": 40
   },
   "kernels_config": {
    "python": {
     "delete_cmd_postfix": "",
     "delete_cmd_prefix": "del ",
     "library": "var_list.py",
     "varRefreshCmd": "print(var_dic_list())"
    },
    "r": {
     "delete_cmd_postfix": ") ",
     "delete_cmd_prefix": "rm(",
     "library": "var_list.r",
     "varRefreshCmd": "cat(var_dic_list()) "
    }
   },
   "types_to_exclude": [
    "module",
    "function",
    "builtin_function_or_method",
    "instance",
    "_Feature"
   ],
   "window_display": false
  }
 },
 "nbformat": 4,
 "nbformat_minor": 4
}
