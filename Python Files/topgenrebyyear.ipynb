{
 "cells": [
  {
   "cell_type": "code",
   "execution_count": 147,
   "metadata": {
    "ExecuteTime": {
     "end_time": "2020-10-24T03:28:02.076954Z",
     "start_time": "2020-10-24T03:28:02.061231Z"
    }
   },
   "outputs": [],
   "source": [
    "import os\n",
    "import csv\n",
    "import matplotlib.pyplot as plt\n",
    "import pandas as pd\n",
    "import numpy as np\n",
    "import seaborn as sns\n",
    "import requests\n",
    "import urllib\n",
    "import time\n",
    "import json\n",
    "from pprint import pprint\n",
    "import datetime\n",
    "import scipy.stats as st\n",
    "from scipy.stats import linregress\n",
    "import base64\n",
    "import spotipy\n",
    "import spotipy.util as util\n",
    "from spotipy.oauth2 import SpotifyClientCredentials\n",
    "import spotipy.oauth2 as oauth2\n",
    "\n",
    "from api_keys import Client_ID_key\n",
    "from api_keys import Client_Secret_key\n",
    "\n"
   ]
  },
  {
   "cell_type": "code",
   "execution_count": 148,
   "metadata": {
    "ExecuteTime": {
     "end_time": "2020-10-24T03:28:03.537416Z",
     "start_time": "2020-10-24T03:28:03.529531Z"
    }
   },
   "outputs": [],
   "source": [
    "csv_path = \"Resources/top10s.csv\""
   ]
  },
  {
   "cell_type": "code",
   "execution_count": 149,
   "metadata": {
    "ExecuteTime": {
     "end_time": "2020-10-24T03:28:04.927310Z",
     "start_time": "2020-10-24T03:28:04.923586Z"
    }
   },
   "outputs": [],
   "source": [
    "client_id = Client_ID_key\n",
    "client_secret = Client_Secret_key"
   ]
  },
  {
   "cell_type": "code",
   "execution_count": 150,
   "metadata": {
    "ExecuteTime": {
     "end_time": "2020-10-24T03:28:06.228386Z",
     "start_time": "2020-10-24T03:28:06.206108Z"
    }
   },
   "outputs": [],
   "source": [
    "class SpotifyAPI(object):\n",
    "    access_token = None \n",
    "    access_token_expires = datetime.datetime.now()\n",
    "    access_token_did_expire = True\n",
    "    client_id = None \n",
    "    client_secret = None \n",
    "    token_url = \"https://accounts.spotify.com/api/token\"\n",
    "    \n",
    "    def __init__(self, client_id, client_secret, *args, **kwargs):\n",
    "        super().__init__(*args, **kwargs)\n",
    "        self.client_id = client_id\n",
    "        self.client_secret = client_secret\n",
    "    \n",
    "    def get_client_credentials(self):\n",
    "        \"\"\"\n",
    "        Returns a base 64 encoded string\n",
    "        \"\"\"\n",
    "        client_id = self.client_id\n",
    "        client_secret = self.client_secret\n",
    "        \n",
    "        if client_secret == None or client_id == None:\n",
    "            raise Exception(\"You must set client_id and client_secret\")\n",
    "        \n",
    "        client_creds = f\"{client_id}:{client_secret}\"\n",
    "        client_creds_b64 = base64.b64encode(client_creds.encode())\n",
    "        return client_creds_b64.decode()\n",
    "        \n",
    "    def get_token_headers(self):\n",
    "        client_creds_b64 = self.get_client_credentials()\n",
    "        return {\n",
    "            \"Authorization\" : f\"Basic {client_creds_b64}\"\n",
    "        }\n",
    "    \n",
    "    def get_token_data(self):\n",
    "        return {\n",
    "            \"grant_type\" : \"client_credentials\"\n",
    "        }\n",
    "    \n",
    "    def perform_auth(self):\n",
    "        token_url = self.token_url\n",
    "        token_data = self.get_token_data()\n",
    "        token_headers = self.get_token_headers()\n",
    "        r = requests.post(token_url, data = token_data, headers = token_headers)\n",
    "        if r.status_code not in range(200, 299): \n",
    "            return False\n",
    "        data = r.json()\n",
    "        now = datetime.datetime.now()\n",
    "        access_token = data['access_token']\n",
    "        expires_in = data['expires_in'] # seconds \n",
    "        expires = now + datetime.timedelta(seconds = expires_in)\n",
    "        self.access_token = access_token\n",
    "        self.access_token_expires = expires\n",
    "        self.access_token_did_expire = expires < now\n",
    "        return True\n"
   ]
  },
  {
   "cell_type": "code",
   "execution_count": 151,
   "metadata": {
    "ExecuteTime": {
     "end_time": "2020-10-24T03:28:08.564246Z",
     "start_time": "2020-10-24T03:28:08.559220Z"
    }
   },
   "outputs": [],
   "source": [
    "spotify = SpotifyAPI(client_id, client_secret)"
   ]
  },
  {
   "cell_type": "code",
   "execution_count": 152,
   "metadata": {
    "ExecuteTime": {
     "end_time": "2020-10-24T03:28:10.976362Z",
     "start_time": "2020-10-24T03:28:10.274024Z"
    }
   },
   "outputs": [
    {
     "data": {
      "text/plain": [
       "False"
      ]
     },
     "execution_count": 152,
     "metadata": {},
     "output_type": "execute_result"
    }
   ],
   "source": [
    "spotify.perform_auth()"
   ]
  },
  {
   "cell_type": "code",
   "execution_count": 153,
   "metadata": {
    "ExecuteTime": {
     "end_time": "2020-10-24T03:28:11.923172Z",
     "start_time": "2020-10-24T03:28:11.917611Z"
    }
   },
   "outputs": [],
   "source": [
    "access_token = spotify.access_token"
   ]
  },
  {
   "cell_type": "code",
   "execution_count": 154,
   "metadata": {
    "ExecuteTime": {
     "end_time": "2020-10-24T03:28:12.941221Z",
     "start_time": "2020-10-24T03:28:12.917781Z"
    }
   },
   "outputs": [],
   "source": [
    "decade_df = pd.read_csv(csv_path, encoding = 'cp1252')"
   ]
  },
  {
   "cell_type": "code",
   "execution_count": 155,
   "metadata": {
    "ExecuteTime": {
     "end_time": "2020-10-24T03:28:14.186739Z",
     "start_time": "2020-10-24T03:28:14.157266Z"
    }
   },
   "outputs": [
    {
     "data": {
      "text/html": [
       "<div>\n",
       "<style scoped>\n",
       "    .dataframe tbody tr th:only-of-type {\n",
       "        vertical-align: middle;\n",
       "    }\n",
       "\n",
       "    .dataframe tbody tr th {\n",
       "        vertical-align: top;\n",
       "    }\n",
       "\n",
       "    .dataframe thead th {\n",
       "        text-align: right;\n",
       "    }\n",
       "</style>\n",
       "<table border=\"1\" class=\"dataframe\">\n",
       "  <thead>\n",
       "    <tr style=\"text-align: right;\">\n",
       "      <th></th>\n",
       "      <th>title</th>\n",
       "      <th>artist</th>\n",
       "      <th>top genre</th>\n",
       "      <th>year</th>\n",
       "      <th>bpm</th>\n",
       "      <th>nrgy</th>\n",
       "      <th>dnce</th>\n",
       "      <th>dB</th>\n",
       "      <th>live</th>\n",
       "      <th>val</th>\n",
       "      <th>dur</th>\n",
       "      <th>acous</th>\n",
       "      <th>spch</th>\n",
       "      <th>pop</th>\n",
       "    </tr>\n",
       "  </thead>\n",
       "  <tbody>\n",
       "    <tr>\n",
       "      <th>0</th>\n",
       "      <td>Hey, Soul Sister</td>\n",
       "      <td>Train</td>\n",
       "      <td>neo mellow</td>\n",
       "      <td>2010</td>\n",
       "      <td>97</td>\n",
       "      <td>89</td>\n",
       "      <td>67</td>\n",
       "      <td>-4</td>\n",
       "      <td>8</td>\n",
       "      <td>80</td>\n",
       "      <td>217</td>\n",
       "      <td>19</td>\n",
       "      <td>4</td>\n",
       "      <td>83</td>\n",
       "    </tr>\n",
       "    <tr>\n",
       "      <th>1</th>\n",
       "      <td>Love The Way You Lie</td>\n",
       "      <td>Eminem</td>\n",
       "      <td>detroit hip hop</td>\n",
       "      <td>2010</td>\n",
       "      <td>87</td>\n",
       "      <td>93</td>\n",
       "      <td>75</td>\n",
       "      <td>-5</td>\n",
       "      <td>52</td>\n",
       "      <td>64</td>\n",
       "      <td>263</td>\n",
       "      <td>24</td>\n",
       "      <td>23</td>\n",
       "      <td>82</td>\n",
       "    </tr>\n",
       "    <tr>\n",
       "      <th>2</th>\n",
       "      <td>TiK ToK</td>\n",
       "      <td>Kesha</td>\n",
       "      <td>dance pop</td>\n",
       "      <td>2010</td>\n",
       "      <td>120</td>\n",
       "      <td>84</td>\n",
       "      <td>76</td>\n",
       "      <td>-3</td>\n",
       "      <td>29</td>\n",
       "      <td>71</td>\n",
       "      <td>200</td>\n",
       "      <td>10</td>\n",
       "      <td>14</td>\n",
       "      <td>80</td>\n",
       "    </tr>\n",
       "    <tr>\n",
       "      <th>3</th>\n",
       "      <td>Bad Romance</td>\n",
       "      <td>Lady Gaga</td>\n",
       "      <td>dance pop</td>\n",
       "      <td>2010</td>\n",
       "      <td>119</td>\n",
       "      <td>92</td>\n",
       "      <td>70</td>\n",
       "      <td>-4</td>\n",
       "      <td>8</td>\n",
       "      <td>71</td>\n",
       "      <td>295</td>\n",
       "      <td>0</td>\n",
       "      <td>4</td>\n",
       "      <td>79</td>\n",
       "    </tr>\n",
       "    <tr>\n",
       "      <th>4</th>\n",
       "      <td>Just the Way You Are</td>\n",
       "      <td>Bruno Mars</td>\n",
       "      <td>pop</td>\n",
       "      <td>2010</td>\n",
       "      <td>109</td>\n",
       "      <td>84</td>\n",
       "      <td>64</td>\n",
       "      <td>-5</td>\n",
       "      <td>9</td>\n",
       "      <td>43</td>\n",
       "      <td>221</td>\n",
       "      <td>2</td>\n",
       "      <td>4</td>\n",
       "      <td>78</td>\n",
       "    </tr>\n",
       "  </tbody>\n",
       "</table>\n",
       "</div>"
      ],
      "text/plain": [
       "                  title      artist        top genre  year  bpm  nrgy  dnce  \\\n",
       "0      Hey, Soul Sister       Train       neo mellow  2010   97    89    67   \n",
       "1  Love The Way You Lie      Eminem  detroit hip hop  2010   87    93    75   \n",
       "2               TiK ToK       Kesha        dance pop  2010  120    84    76   \n",
       "3           Bad Romance   Lady Gaga        dance pop  2010  119    92    70   \n",
       "4  Just the Way You Are  Bruno Mars              pop  2010  109    84    64   \n",
       "\n",
       "   dB  live  val  dur  acous  spch  pop  \n",
       "0  -4     8   80  217     19     4   83  \n",
       "1  -5    52   64  263     24    23   82  \n",
       "2  -3    29   71  200     10    14   80  \n",
       "3  -4     8   71  295      0     4   79  \n",
       "4  -5     9   43  221      2     4   78  "
      ]
     },
     "execution_count": 155,
     "metadata": {},
     "output_type": "execute_result"
    }
   ],
   "source": [
    "del decade_df [\"Unnamed: 0\"]\n",
    "decade_df.head()"
   ]
  },
  {
   "cell_type": "code",
   "execution_count": 157,
   "metadata": {
    "ExecuteTime": {
     "end_time": "2020-10-24T03:31:40.878999Z",
     "start_time": "2020-10-24T03:31:40.318954Z"
    }
   },
   "outputs": [
    {
     "data": {
      "text/plain": [
       "Text(0.5, 1.0, 'Number of Songs in Each Year')"
      ]
     },
     "execution_count": 157,
     "metadata": {},
     "output_type": "execute_result"
    },
    {
     "data": {
      "image/png": "[encoded data removed]",
      "text/plain": [
       "<Figure size 1440x720 with 1 Axes>"
      ]
     },
     "metadata": {},
     "output_type": "display_data"
    }
   ],
   "source": [
    "#genre_by_year = decade_df[\"neomellow\", \"dance pop\", \"hip pop\", \"pop\", \"candy pop\", \"colombian pop\", \"atl hip hop\", \"detroit hip hop\", \"boy band\", \"tropical house\"]\n",
    "#print(decade_df['top genre'].values).most_common(10)\n",
    "#topgenres= [\"neomellow\", \"dance pop\", \"hip pop\", \"pop\", \"candy pop\", \"colombian pop\", \"atl hip hop\", \"detroit hip hop\", \"boy band\", \"tropical house\"]\n",
    "#genres=[\"neo mellow\", \"dance pop\", \"hip pop\", \"pop\", \"candy pop\", \"colombian pop\", \"atl hip hop\", \"detroit hip hop\", \"boy band\", \"tropical house\"]\n",
    "#top_genre_by_year = decade_df[[\"year\", \"top genre\"].groupby(\"year\").mean().sort_values(by=\"year\").reset_index()\n",
    "#plt.figure (figsize=(16,9))\n",
    "#x=['year']\n",
    "#y=['top genre']\n",
    "#plt.plot(x,y)\n",
    "decade_df['top genre'].value_counts().head(10)\n",
    "decade_df['top genre'].value_counts().plot(figsize=(20,10))\n",
    "plt.xlabel('Top Genre')\n",
    "plt.ylabel('Number of Songs')\n",
    "plt.title('Top genre')\n",
    "decade_df['year'].value_counts()\n",
    "decade_df['year'].value_counts().plot.bar(figsize=(20,10))\n",
    "plt.xlabel('Year')\n",
    "plt.ylabel('Number of Songs')\n",
    "plt.title('Number of Songs in Each Year')\n",
    "\n",
    "#plt.figure(figsize=(16,9))\n",
    "#sns.set(style=\"darkgrid\")\n",
    "#topgenres= [\"neo mellow\", \"dance pop\", \"hip pop\", \"pop\", \"candy pop\", \"colombian pop\", \"atl hip hop\", \"detroit hip hop\", \"boy band\", \"tropical house\"]\n",
    "#sns.lineplot(x=\"year\", y=\"neo mellow\", data=topgenres)\n",
    "#sns.lineplot(x=\"year\", y=\"dance pop\", data=topgenres)\n",
    "#sns.lineplot(x=\"year\", y=\"hip pop\", data=topgenres)\n",
    "#sns.lineplot(x=\"year\", y=\"pop\", data=topgenres)\n",
    "#sns.lineplot(x=\"year\", y=\"candy pop\", data=topgenres)\n",
    "#sns.lineplot(x=\"year\", y=\"colombian pop\", data=topgenres)\n",
    "#sns.lineplot(x=\"year\", y=\"atl hip hop\", data=topgenres)\n",
    "#sns.lineplot(x=\"year\", y=\"detroit hip hop\", data=topgenres)\n",
    "#sns.lineplot(x=\"year\", y=\"boy band\", data=topgenres)\n",
    "#sns.lineplot(x=\"year\", y=\"tropical house\", data=topgenres)\n",
    "#plt.title(\"Top Genre by Year\", fontsize = 20)\n",
    "#plt.xlabel(\"Year\", fontsize = 15)\n",
    "#plt.ylabel(\"Genres\", fontsize = 15)\n",
    "#plt.legend(topgenres)\n",
    "#plt.savefig(\"Output Data/genre_by_year.png\")\n",
    "#plt.show()\n",
    "#bar_plot = dict((decade_df['top genre'].values).most_common(10))\n",
    "#plt.bar((decade_df['top genre'].values).most_common(10))\n",
    "#plt.show()\n",
    "#plt.figure (figsize = (16,9))\n",
    "#sns.set(style=\"darkgrid\")\n",
    "#genre_by_year = decade_df[[\"dance pop\", \"art hip hop\", \"pop\", \"hip pop\", \"barbadian pop\", \"australian pop\", \"indie pop\", \"neo mellow,\", \"big room\", \"colombian pop\", \"detroit hip hop\", \"art pop\", \"british soul\", \"acoustic pop\", \"chicago rap\", \"atl hip hop\", \"canadian pop\", \"boy band\", \"baroque pop\", \"permanent wave\",  \"hollywood\", \"australian dance\", \"house\", \"complextro\", \"folk-pop\", \"metropolis\", \"australian hip hop\", \"electropop\", \"candy pop\", \"canadian contemporary r&b\",\"latin\", \"french indie pop\", \"complextro\", \"irish singer-songwriter\", \"belgian edm\", \"tropical house\", \"danish pop\", \"canadian latin\", \"folk-pop\", \"canadian hip hop\", \"edm\", \"moroccan pop\", \"electropop\", \"contemporary country\", \"dowritempo\", \"brostep\", \"escape room\", \"alternative r&b\", \"electronic rap\"]].groupby(\"year\").mean().sort_values(by=\"year\").reset_index()\n",
    "#genre = [\"dance pop\" , \"art hip hop\", \"pop\" \"hip pop\", \"barbadian pop\", \"australian pop\", \"indie pop\", \"neo mellow\", \"big room\", \"colombian pop\", \"detroit hip hop\", \"art pop\", \"british soul\", \"acoustic pop\", \"chicago rap\", \"atl hip hop\", \"canadian pop\", \"boy band\", \"baroque pop\", \"permanent wave\",  \"hollywood\", \"australian dance\", \"house\", \"complextro\", \"folk-pop\", \"metropolis\", \"australian hip hop\", \"electropop\", \"candy pop\", \"canadian contemporary r&b\", \"latin\", \"french indie pop\", \"complextro\", \"irish singer-songwriter\", \"belgian edm\", \"tropical house\", \"danish pop\", \"canadian latin\", \"folk-pop\", \"canadian hip hop\", \"edm\", \"moroccan pop\", \"electropop\", \"contemporary country\", \"dowritempo\", \"brostep\", \"escape room\", \"alternative r&b\", \"electronic rap\"]\n",
    "#sns.lineplot(x=\"year\", y=\"dance pop\", data = genre_by_year)\n",
    "#sns.lineplot(x=\"year\", y=\"art hip hop\", data = genre_by_year)\n",
    "#sns.lineplot(x=\"year\", y=\"pop\", data = genre_by_year)\n",
    "#sns.lineplot(x=\"year\", y=\"hip pop\", data = genre_by_year)\n",
    "#sns.lineplot(x=\"year\", y=\"barbadian pop\", data = genre_by_year)\n",
    "#sns.lineplot(x=\"year\", y=\"australian pop\", data = genre_by_year)\n",
    "#sns.lineplot(x=\"year\", y=\"indie pop\", data = genre_by_year)\n",
    "#sns.lineplot(x=\"year\", y=\"neo mellow\", data = genre_by_year)\n",
    "#sns.lineplot(x=\"year\", y=\"big room\", data = genre_by_year)\n",
    "#sns.lineplot(x=\"year\", y=\"colombian pop\", data = genre_by_year)\n",
    "#sns.lineplot(x=\"year\", y=\"detroit hip hop\", data = genre_by_year)\n",
    "#sns.lineplot(x=\"year\", y=\"art pop\", data = genre_by_year)\n",
    "#sns.lineplot(x=\"year\", y=\"british soul\", data = genre_by_year)\n",
    "#sns.lineplot(x=\"year\", y=\"acoustic pop\", data = genre_by_year)\n",
    "#sns.lineplot(x=\"year\", y=\"chicago rap\", data = genre_by_year)\n",
    "#sns.lineplot(x=\"year\", y=\"atl hip hop\", data = genre_by_year)\n",
    "#sns.lineplot(x=\"year\", y=\"canadian pop\", data = genre_by_year)\n",
    "#sns.lineplot(x=\"year\", y=\"acoustic pop\", data = genre_by_year)\n",
    "#sns.lineplot(x=\"year\", y=\"boy band\", data = genre_by_year)\n",
    "#sns.lineplot(x=\"year\", y=\"baroque pop\", data = genre_by_year)\n",
    "#sns.lineplot(x=\"year\", y=\"acoustic pop\", data = genre_by_year)\n",
    "#sns.lineplot(x=\"year\", y=\"chicago rap\", data = genre_by_year)\n",
    "#sns.lineplot(x=\"year\", y=\"atl hip hop\", data = genre_by_year)\n",
    "#sns.lineplot(x=\"year\", y=\"canadian pop\", data = genre_by_year)\n",
    "#sns.lineplot(x=\"year\", y=\"boy band\", data = genre_by_year)\n",
    "#sns.lineplot(x=\"year\", y=\"baroque pop\", data = genre_by_year)\n",
    "#sns.lineplot(x=\"year\", y=\"permanent wave\", data = genre_by_year)\n",
    "#sns.lineplot(x=\"year\", y=\"hollywood\", data = genre_by_year)\n",
    "#sns.lineplot(x=\"year\", y=\"australian dance\", data = genre_by_year)\n",
    "#sns.lineplot(x=\"year\", y=\"house\", data = genre_by_year)\n",
    "#sns.lineplot(x=\"year\", y=\"complextro\", data = genre_by_year)\n",
    "#sns.lineplot(x=\"year\", y=\"folk pop\", data = genre_by_year)\n",
    "#sns.lineplot(x=\"year\", y=\"metropolis\", data = genre_by_year)\n",
    "#sns.lineplot(x=\"year\", y=\"australian hip hop\", data = genre_by_year)\n",
    "#sns.lineplot(x=\"year\", y=\"electropop\", data = genre_by_year)\n",
    "#sns.lineplot(x=\"year\", y=\"candy pop\", data = genre_by_year)\n",
    "#sns.lineplot(x=\"year\", y=\"canadian contemporary r&b\", data = genre_by_year)\n",
    "#sns.lineplot(x=\"year\", y=\"latin\", data = genre_by_year)\n",
    "#sns.lineplot(x=\"year\", y=\"french indie pop\", data = genre_by_year)\n",
    "#sns.lineplot(x=\"year\", y=\"complextro\", data = genre_by_year)\n",
    "#sns.lineplot(x=\"year\", y=\"irish singer-songwriter\", data = genre_by_year)\n",
    "#sns.lineplot(x=\"year\", y=\"belgian edm\", data = genre_by_year)\n",
    "#sns.lineplot(x=\"year\", y=\"tropical house\", data = genre_by_year)\n",
    "#sns.lineplot(x=\"year\", y=\"danish pop\", data = genre_by_year)\n",
    "#sns.lineplot(x=\"year\", y=\"canadian latin\", data = genre_by_year)\n",
    "#sns.lineplot(x=\"year\", y=\"folk-pop\", data = genre_by_year)\n",
    "#sns.lineplot(x=\"year\", y=\"canadian hip-hop\", data = genre_by_year)\n",
    "#sns.lineplot(x=\"year\", y=\"edm\", data = genre_by_year)\n",
    "#sns.lineplot(x=\"year\", y=\"moroccan pop\", data = genre_by_year)\n",
    "#sns.lineplot(x=\"year\", y=\"electropop\", data = genre_by_year)\n",
    "#sns.lineplot(x=\"year\", y=\"contemporary country\", data = genre_by_year)\n",
    "#sns.lineplot(x=\"year\", y=\"dowritempo\", data = genre_by_year)\n",
    "#sns.lineplot(x=\"year\", y=\"brostep\", data = genre_by_year)\n",
    "#sns.lineplot(x=\"year\", y=\"escape room\", data = genre_by_year)\n",
    "#sns.lineplot(x=\"year\", y=\"alternative r&b\", data = genre_by_year)\n",
    "#sns.lineplot(x=\"year\", y=\"electronic trap\", data = genre_by_year)\n",
    "#plt.title(\"Top Genre by Year\", fontsize = 20)\n",
    "#plt.xlabel(\"Year\", fontsize = 15)\n",
    "#plt.ylabel(\"Genres\", fontsize = 15)\n",
    "#plt.legend(genre)\n",
    "#plt.savefig(\"Output Data/genre_by_year.png\")\n"
   ]
  },
  {
   "cell_type": "code",
   "execution_count": 179,
   "metadata": {
    "ExecuteTime": {
     "end_time": "2020-10-24T01:08:27.062434Z",
     "start_time": "2020-10-24T01:08:27.029521Z"
    }
   },
   "outputs": [
    {
     "ename": "SyntaxError",
     "evalue": "invalid syntax (<ipython-input-179-b75ea3aba897>, line 1)",
     "output_type": "error",
     "traceback": [
      "\u001b[1;36m  File \u001b[1;32m\"<ipython-input-179-b75ea3aba897>\"\u001b[1;36m, line \u001b[1;32m1\u001b[0m\n\u001b[1;33m    genre_by_year = decade_df[[\"dance pop\" , \"art hip hop\", \"pop\", \"hip pop\", \"barbadian pop\", \"australian pop\", \"indie pop\", \"neo mellow,\", \"big room\", \"colombian pop\", \"detroit hip hop\", \"art pop\", \"british soul\", \"acoustic pop\", \"chicago rap\", \"atl hip hop\", \"canadian pop\", \"boy band\", \"baroque pop\",, \"permanent wave\",  \"hollywood\", \"australian dance\", \"house\", \"complextro\", \"folk-pop\", \"metropolis\", \"australian hip hop\", \"electropop\", \"candy pop\", \"canadian contemporary r&b\",\"latin\", \"french indie pop\", \"complextro\", \"irish singer-songwriter\", \"belgian edm\", \"tropical house\", \"danish pop\", \"canadian latin\", \"folk-pop\", \"canadian hip hop\", \"edm\", \"moroccan pop\", \"electropop\", \"contemporary country\", \"dowritempo\", \"brostep\", \"escape room\", \"alternative r&b\", \"electronic rap\"]].groupby(\"year\").mean().sort_values(by=\"year\").reset_index()\u001b[0m\n\u001b[1;37m                                                                                                                                                                                                                                                                                                                ^\u001b[0m\n\u001b[1;31mSyntaxError\u001b[0m\u001b[1;31m:\u001b[0m invalid syntax\n"
     ]
    }
   ],
   "source": []
  }
 ],
 "metadata": {
  "kernelspec": {
   "display_name": "Python 3",
   "language": "python",
   "name": "python3"
  },
  "language_info": {
   "codemirror_mode": {
    "name": "ipython",
    "version": 3
   },
   "file_extension": ".py",
   "mimetype": "text/x-python",
   "name": "python",
   "nbconvert_exporter": "python",
   "pygments_lexer": "ipython3",
   "version": "3.8.3"
  },
  "toc": {
   "base_numbering": 1,
   "nav_menu": {},
   "number_sections": true,
   "sideBar": true,
   "skip_h1_title": false,
   "title_cell": "Table of Contents",
   "title_sidebar": "Contents",
   "toc_cell": false,
   "toc_position": {},
   "toc_section_display": true,
   "toc_window_display": false
  },
  "varInspector": {
   "cols": {
    "lenName": 16,
    "lenType": 16,
    "lenVar": 40
   },
   "kernels_config": {
    "python": {
     "delete_cmd_postfix": "",
     "delete_cmd_prefix": "del ",
     "library": "var_list.py",
     "varRefreshCmd": "print(var_dic_list())"
    },
    "r": {
     "delete_cmd_postfix": ") ",
     "delete_cmd_prefix": "rm(",
     "library": "var_list.r",
     "varRefreshCmd": "cat(var_dic_list()) "
    }
   },
   "types_to_exclude": [
    "module",
    "function",
    "builtin_function_or_method",
    "instance",
    "_Feature"
   ],
   "window_display": false
  }
 },
 "nbformat": 4,
 "nbformat_minor": 4
}
